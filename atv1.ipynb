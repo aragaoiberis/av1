{
 "cells": [
  {
   "cell_type": "markdown",
   "metadata": {},
   "source": [
    "Exercício 1: Um projétil é lançado verticalmente para cima, a partir do solo, com velocidade inicial  (v0\n",
    " em m/s). O projétil está sujeito apenas à gravidade (g= 9,8 m/s2). Para tornar o exercício único para cada aluno, defina a altura inicial  (h0\n",
    " como sendo igual à soma dos dígitos do seu RA multiplicada por 3 (ou seja,  soma dos dígitos do RA).\n",
    "\n",
    " Tarefas:\n",
    "\n",
    "Solicitar o número do RA.  \n",
    "• Calcular a soma dos dígitos do RA.  \n",
    "• Definir  h0  \n",
    " (soma dos dígitos do RA).  \n",
    "• Solicitar ao usuário a velocidade inicial  (em m/s).  \n",
    "• Calcular e imprimir o tempo total que o corpo leva para atingir o solo após o lançamento, considerando a altura inicial .  \n",
    "Use a equação do movimento vertical para determinar o tempo total de voo:\n",
    " \n",
    "$$h(t)=h_0+v_0t−\\frac{1}{2}gt^2$$\n",
    " \n",
    "O tempo total corresponde ao instante em que h(t)=0\n",
    "\n"
   ]
  },
  {
   "cell_type": "markdown",
   "metadata": {},
   "source": [
    "![alt text]({5F199CC4-7A5B-4AC8-8B66-C1D0CAB4DD11}.png)"
   ]
  },
  {
   "cell_type": "markdown",
   "metadata": {},
   "source": []
  },
  {
   "cell_type": "code",
   "execution_count": 18,
   "metadata": {},
   "outputs": [],
   "source": [
    "import numpy as np"
   ]
  },
  {
   "cell_type": "code",
   "execution_count": 27,
   "metadata": {},
   "outputs": [
    {
     "name": "stdout",
     "output_type": "stream",
     "text": [
      "90.0\n"
     ]
    }
   ],
   "source": [
    "RA = int(input(\"Insira seu RA: \"))\n",
    "sum = 0\n",
    "\n",
    "while RA > 0:\n",
    "    sum += RA % 10 #pega o ultimo digito\n",
    "    RA //= 10       # apaga o ultimo digito para voltar a usar o novo ultimo digito\n",
    "\n",
    "h_0 = float(sum*3)\n",
    "\n",
    "print(h_0)"
   ]
  },
  {
   "cell_type": "code",
   "execution_count": 26,
   "metadata": {},
   "outputs": [
    {
     "name": "stdout",
     "output_type": "stream",
     "text": [
      "O tempo que um projétil lançado a partir de 90.0 metros com uma velocidade inicial de 50.0 m/s é 11.77s\n"
     ]
    }
   ],
   "source": [
    "#subida\n",
    "v_0 = float(input(\"Insira a velocidade inicial em m/s: \"))\n",
    "g = 9.8\n",
    "h_max = h_0 + (v_0**2)/(2*g) #altura máxima atingida\n",
    "t_up = v_0/g #tempo para atingir h máxima\n",
    "\n",
    "#descida\n",
    "t_down = np.sqrt(2*h_max/g) #v = 0\n",
    "t_f = t_up + t_down\n",
    "print(f\"O tempo que um projétil lançado a partir de {round(h_0,2)} metros com uma velocidade inicial de {round(v_0,2)} m/s é {round(t_f,2)}s\" )"
   ]
  },
  {
   "cell_type": "markdown",
   "metadata": {},
   "source": []
  },
  {
   "cell_type": "markdown",
   "metadata": {},
   "source": []
  }
 ],
 "metadata": {
  "kernelspec": {
   "display_name": "base",
   "language": "python",
   "name": "python3"
  },
  "language_info": {
   "codemirror_mode": {
    "name": "ipython",
    "version": 3
   },
   "file_extension": ".py",
   "mimetype": "text/x-python",
   "name": "python",
   "nbconvert_exporter": "python",
   "pygments_lexer": "ipython3",
   "version": "3.12.7"
  }
 },
 "nbformat": 4,
 "nbformat_minor": 2
}
